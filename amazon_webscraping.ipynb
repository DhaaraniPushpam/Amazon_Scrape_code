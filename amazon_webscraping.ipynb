{
  "nbformat": 4,
  "nbformat_minor": 0,
  "metadata": {
    "colab": {
      "provenance": [],
      "authorship_tag": "ABX9TyMAlbGryK4xvsl58+NxITvX",
      "include_colab_link": true
    },
    "kernelspec": {
      "name": "python3",
      "display_name": "Python 3"
    },
    "language_info": {
      "name": "python"
    }
  },
  "cells": [
    {
      "cell_type": "markdown",
      "metadata": {
        "id": "view-in-github",
        "colab_type": "text"
      },
      "source": [
        "<a href=\"https://colab.research.google.com/github/DhaaraniPushpam/DhaaraniPushpam/blob/main/amazon_webscraping.ipynb\" target=\"_parent\"><img src=\"https://colab.research.google.com/assets/colab-badge.svg\" alt=\"Open In Colab\"/></a>"
      ]
    },
    {
      "cell_type": "code",
      "source": [
        "!pip install scrapy-poet"
      ],
      "metadata": {
        "id": "WFczp5DiJBpE",
        "colab": {
          "base_uri": "https://localhost:8080/"
        },
        "outputId": "fb087e19-911e-4f2d-863f-71178ccac5cf"
      },
      "execution_count": 1,
      "outputs": [
        {
          "output_type": "stream",
          "name": "stdout",
          "text": [
            "Collecting scrapy-poet\n",
            "  Downloading scrapy_poet-0.15.1-py3-none-any.whl (26 kB)\n",
            "Collecting andi>=0.4.1 (from scrapy-poet)\n",
            "  Downloading andi-0.4.1-py3-none-any.whl (16 kB)\n",
            "Requirement already satisfied: attrs>=21.3.0 in /usr/local/lib/python3.10/dist-packages (from scrapy-poet) (23.1.0)\n",
            "Collecting parsel>=1.5.0 (from scrapy-poet)\n",
            "  Downloading parsel-1.8.1-py2.py3-none-any.whl (17 kB)\n",
            "Collecting scrapy>=2.6.0 (from scrapy-poet)\n",
            "  Downloading Scrapy-2.11.0-py2.py3-none-any.whl (286 kB)\n",
            "\u001b[2K     \u001b[90m━━━━━━━━━━━━━━━━━━━━━━━━━━━━━━━━━━━━━━\u001b[0m \u001b[32m286.4/286.4 kB\u001b[0m \u001b[31m11.0 MB/s\u001b[0m eta \u001b[36m0:00:00\u001b[0m\n",
            "\u001b[?25hCollecting sqlitedict>=1.5.0 (from scrapy-poet)\n",
            "  Downloading sqlitedict-2.1.0.tar.gz (21 kB)\n",
            "  Preparing metadata (setup.py) ... \u001b[?25l\u001b[?25hdone\n",
            "Collecting time-machine (from scrapy-poet)\n",
            "  Downloading time_machine-2.12.0-cp310-cp310-manylinux_2_5_x86_64.manylinux1_x86_64.manylinux_2_17_x86_64.manylinux2014_x86_64.whl (33 kB)\n",
            "Collecting twisted>=18.9.0 (from scrapy-poet)\n",
            "  Downloading twisted-23.8.0-py3-none-any.whl (3.1 MB)\n",
            "\u001b[2K     \u001b[90m━━━━━━━━━━━━━━━━━━━━━━━━━━━━━━━━━━━━━━━━\u001b[0m \u001b[32m3.1/3.1 MB\u001b[0m \u001b[31m61.6 MB/s\u001b[0m eta \u001b[36m0:00:00\u001b[0m\n",
            "\u001b[?25hCollecting url-matcher>=0.2.0 (from scrapy-poet)\n",
            "  Downloading url_matcher-0.2.0-py3-none-any.whl (11 kB)\n",
            "Collecting web-poet>=0.15 (from scrapy-poet)\n",
            "  Downloading web_poet-0.15.0-py3-none-any.whl (45 kB)\n",
            "\u001b[2K     \u001b[90m━━━━━━━━━━━━━━━━━━━━━━━━━━━━━━━━━━━━━━━━\u001b[0m \u001b[32m45.3/45.3 kB\u001b[0m \u001b[31m4.1 MB/s\u001b[0m eta \u001b[36m0:00:00\u001b[0m\n",
            "\u001b[?25hCollecting cssselect>=0.9 (from parsel>=1.5.0->scrapy-poet)\n",
            "  Downloading cssselect-1.2.0-py2.py3-none-any.whl (18 kB)\n",
            "Collecting jmespath (from parsel>=1.5.0->scrapy-poet)\n",
            "  Downloading jmespath-1.0.1-py3-none-any.whl (20 kB)\n",
            "Requirement already satisfied: lxml in /usr/local/lib/python3.10/dist-packages (from parsel>=1.5.0->scrapy-poet) (4.9.3)\n",
            "Requirement already satisfied: packaging in /usr/local/lib/python3.10/dist-packages (from parsel>=1.5.0->scrapy-poet) (23.1)\n",
            "Collecting w3lib>=1.19.0 (from parsel>=1.5.0->scrapy-poet)\n",
            "  Downloading w3lib-2.1.2-py3-none-any.whl (21 kB)\n",
            "Collecting twisted>=18.9.0 (from scrapy-poet)\n",
            "  Downloading Twisted-22.10.0-py3-none-any.whl (3.1 MB)\n",
            "\u001b[2K     \u001b[90m━━━━━━━━━━━━━━━━━━━━━━━━━━━━━━━━━━━━━━━━\u001b[0m \u001b[32m3.1/3.1 MB\u001b[0m \u001b[31m57.8 MB/s\u001b[0m eta \u001b[36m0:00:00\u001b[0m\n",
            "\u001b[?25hRequirement already satisfied: cryptography>=36.0.0 in /usr/local/lib/python3.10/dist-packages (from scrapy>=2.6.0->scrapy-poet) (41.0.3)\n",
            "Collecting itemloaders>=1.0.1 (from scrapy>=2.6.0->scrapy-poet)\n",
            "  Downloading itemloaders-1.1.0-py3-none-any.whl (11 kB)\n",
            "Requirement already satisfied: pyOpenSSL>=21.0.0 in /usr/local/lib/python3.10/dist-packages (from scrapy>=2.6.0->scrapy-poet) (23.2.0)\n",
            "Collecting queuelib>=1.4.2 (from scrapy>=2.6.0->scrapy-poet)\n",
            "  Downloading queuelib-1.6.2-py2.py3-none-any.whl (13 kB)\n",
            "Collecting service-identity>=18.1.0 (from scrapy>=2.6.0->scrapy-poet)\n",
            "  Downloading service_identity-23.1.0-py3-none-any.whl (12 kB)\n",
            "Collecting zope.interface>=5.1.0 (from scrapy>=2.6.0->scrapy-poet)\n",
            "  Downloading zope.interface-6.0-cp310-cp310-manylinux_2_5_x86_64.manylinux1_x86_64.manylinux_2_17_x86_64.manylinux2014_x86_64.whl (246 kB)\n",
            "\u001b[2K     \u001b[90m━━━━━━━━━━━━━━━━━━━━━━━━━━━━━━━━━━━━━━\u001b[0m \u001b[32m247.0/247.0 kB\u001b[0m \u001b[31m24.5 MB/s\u001b[0m eta \u001b[36m0:00:00\u001b[0m\n",
            "\u001b[?25hCollecting protego>=0.1.15 (from scrapy>=2.6.0->scrapy-poet)\n",
            "  Downloading Protego-0.3.0-py2.py3-none-any.whl (8.5 kB)\n",
            "Collecting itemadapter>=0.1.0 (from scrapy>=2.6.0->scrapy-poet)\n",
            "  Downloading itemadapter-0.8.0-py3-none-any.whl (11 kB)\n",
            "Requirement already satisfied: setuptools in /usr/local/lib/python3.10/dist-packages (from scrapy>=2.6.0->scrapy-poet) (67.7.2)\n",
            "Collecting tldextract (from scrapy>=2.6.0->scrapy-poet)\n",
            "  Downloading tldextract-3.5.0-py3-none-any.whl (97 kB)\n",
            "\u001b[2K     \u001b[90m━━━━━━━━━━━━━━━━━━━━━━━━━━━━━━━━━━━━━━━━\u001b[0m \u001b[32m97.2/97.2 kB\u001b[0m \u001b[31m11.3 MB/s\u001b[0m eta \u001b[36m0:00:00\u001b[0m\n",
            "\u001b[?25hCollecting PyDispatcher>=2.0.5 (from scrapy>=2.6.0->scrapy-poet)\n",
            "  Downloading PyDispatcher-2.0.7-py3-none-any.whl (12 kB)\n",
            "Collecting constantly>=15.1 (from twisted>=18.9.0->scrapy-poet)\n",
            "  Downloading constantly-15.1.0-py2.py3-none-any.whl (7.9 kB)\n",
            "Collecting incremental>=21.3.0 (from twisted>=18.9.0->scrapy-poet)\n",
            "  Downloading incremental-22.10.0-py2.py3-none-any.whl (16 kB)\n",
            "Collecting Automat>=0.8.0 (from twisted>=18.9.0->scrapy-poet)\n",
            "  Downloading Automat-22.10.0-py2.py3-none-any.whl (26 kB)\n",
            "Collecting hyperlink>=17.1.1 (from twisted>=18.9.0->scrapy-poet)\n",
            "  Downloading hyperlink-21.0.0-py2.py3-none-any.whl (74 kB)\n",
            "\u001b[2K     \u001b[90m━━━━━━━━━━━━━━━━━━━━━━━━━━━━━━━━━━━━━━━━\u001b[0m \u001b[32m74.6/74.6 kB\u001b[0m \u001b[31m7.7 MB/s\u001b[0m eta \u001b[36m0:00:00\u001b[0m\n",
            "\u001b[?25hRequirement already satisfied: typing-extensions>=3.6.5 in /usr/local/lib/python3.10/dist-packages (from twisted>=18.9.0->scrapy-poet) (4.5.0)\n",
            "Requirement already satisfied: multidict in /usr/local/lib/python3.10/dist-packages (from web-poet>=0.15->scrapy-poet) (6.0.4)\n",
            "Collecting async-lru>=1.0.3 (from web-poet>=0.15->scrapy-poet)\n",
            "  Downloading async_lru-2.0.4-py3-none-any.whl (6.1 kB)\n",
            "Requirement already satisfied: python-dateutil in /usr/local/lib/python3.10/dist-packages (from web-poet>=0.15->scrapy-poet) (2.8.2)\n",
            "Requirement already satisfied: six in /usr/local/lib/python3.10/dist-packages (from Automat>=0.8.0->twisted>=18.9.0->scrapy-poet) (1.16.0)\n",
            "Requirement already satisfied: cffi>=1.12 in /usr/local/lib/python3.10/dist-packages (from cryptography>=36.0.0->scrapy>=2.6.0->scrapy-poet) (1.15.1)\n",
            "Requirement already satisfied: idna>=2.5 in /usr/local/lib/python3.10/dist-packages (from hyperlink>=17.1.1->twisted>=18.9.0->scrapy-poet) (3.4)\n",
            "Requirement already satisfied: pyasn1 in /usr/local/lib/python3.10/dist-packages (from service-identity>=18.1.0->scrapy>=2.6.0->scrapy-poet) (0.5.0)\n",
            "Requirement already satisfied: pyasn1-modules in /usr/local/lib/python3.10/dist-packages (from service-identity>=18.1.0->scrapy>=2.6.0->scrapy-poet) (0.3.0)\n",
            "Requirement already satisfied: requests>=2.1.0 in /usr/local/lib/python3.10/dist-packages (from tldextract->scrapy>=2.6.0->scrapy-poet) (2.31.0)\n",
            "Collecting requests-file>=1.4 (from tldextract->scrapy>=2.6.0->scrapy-poet)\n",
            "  Downloading requests_file-1.5.1-py2.py3-none-any.whl (3.7 kB)\n",
            "Requirement already satisfied: filelock>=3.0.8 in /usr/local/lib/python3.10/dist-packages (from tldextract->scrapy>=2.6.0->scrapy-poet) (3.12.2)\n",
            "Requirement already satisfied: pycparser in /usr/local/lib/python3.10/dist-packages (from cffi>=1.12->cryptography>=36.0.0->scrapy>=2.6.0->scrapy-poet) (2.21)\n",
            "Requirement already satisfied: charset-normalizer<4,>=2 in /usr/local/lib/python3.10/dist-packages (from requests>=2.1.0->tldextract->scrapy>=2.6.0->scrapy-poet) (3.2.0)\n",
            "Requirement already satisfied: urllib3<3,>=1.21.1 in /usr/local/lib/python3.10/dist-packages (from requests>=2.1.0->tldextract->scrapy>=2.6.0->scrapy-poet) (2.0.4)\n",
            "Requirement already satisfied: certifi>=2017.4.17 in /usr/local/lib/python3.10/dist-packages (from requests>=2.1.0->tldextract->scrapy>=2.6.0->scrapy-poet) (2023.7.22)\n",
            "Building wheels for collected packages: sqlitedict\n",
            "  Building wheel for sqlitedict (setup.py) ... \u001b[?25l\u001b[?25hdone\n",
            "  Created wheel for sqlitedict: filename=sqlitedict-2.1.0-py3-none-any.whl size=16864 sha256=3d38274263f4ec163a415b334dbd3560d3bc76426ad364d4ca255ff17ee5ee56\n",
            "  Stored in directory: /root/.cache/pip/wheels/79/d6/e7/304e0e6cb2221022c26d8161f7c23cd4f259a9e41e8bbcfabd\n",
            "Successfully built sqlitedict\n",
            "Installing collected packages: sqlitedict, PyDispatcher, incremental, constantly, andi, zope.interface, w3lib, queuelib, protego, jmespath, itemadapter, hyperlink, cssselect, Automat, async-lru, twisted, time-machine, requests-file, parsel, tldextract, service-identity, itemloaders, url-matcher, scrapy, web-poet, scrapy-poet\n",
            "Successfully installed Automat-22.10.0 PyDispatcher-2.0.7 andi-0.4.1 async-lru-2.0.4 constantly-15.1.0 cssselect-1.2.0 hyperlink-21.0.0 incremental-22.10.0 itemadapter-0.8.0 itemloaders-1.1.0 jmespath-1.0.1 parsel-1.8.1 protego-0.3.0 queuelib-1.6.2 requests-file-1.5.1 scrapy-2.11.0 scrapy-poet-0.15.1 service-identity-23.1.0 sqlitedict-2.1.0 time-machine-2.12.0 tldextract-3.5.0 twisted-22.10.0 url-matcher-0.2.0 w3lib-2.1.2 web-poet-0.15.0 zope.interface-6.0\n"
          ]
        }
      ]
    },
    {
      "cell_type": "code",
      "source": [
        "from bs4 import BeautifulSoup\n",
        "import requests\n",
        "import pandas as pd\n",
        "import numpy as np"
      ],
      "metadata": {
        "id": "cqQGzwJBJCSn"
      },
      "execution_count": 42,
      "outputs": []
    },
    {
      "cell_type": "code",
      "source": [
        "URL = \"https://www.amazon.in/s?k=computer+books+for+data+science&crid=3FXF9JRLAD7HS&sprefix=computer+books+for+data+science%2Caps%2C307&ref=nb_sb_noss_2\""
      ],
      "metadata": {
        "id": "urC8jRobnbG4"
      },
      "execution_count": 16,
      "outputs": []
    },
    {
      "cell_type": "code",
      "source": [
        " headers={\"User-Agent\": \"Mozilla/5.0 (Windows NT 10.0; Win64; x64) AppleWebKit/537.36 (KHTML, like Gecko) Chrome/116.0.0.0 Safari/537.36\"}\n"
      ],
      "metadata": {
        "id": "hKhhK_b1nbEU"
      },
      "execution_count": 17,
      "outputs": []
    },
    {
      "cell_type": "code",
      "source": [
        "# HTTP Request\n",
        "webpage = requests.get(URL, headers=headers)\n",
        "webpage"
      ],
      "metadata": {
        "colab": {
          "base_uri": "https://localhost:8080/"
        },
        "id": "vlPuYkesnbBA",
        "outputId": "a13ed108-4b49-42e2-c8a8-691016610133"
      },
      "execution_count": 19,
      "outputs": [
        {
          "output_type": "execute_result",
          "data": {
            "text/plain": [
              "<Response [200]>"
            ]
          },
          "metadata": {},
          "execution_count": 19
        }
      ]
    },
    {
      "cell_type": "code",
      "source": [
        "type(webpage.content)"
      ],
      "metadata": {
        "colab": {
          "base_uri": "https://localhost:8080/"
        },
        "id": "IUMoqjUvna-B",
        "outputId": "cac32540-2ec9-4b9d-c3ab-53ddc46f3609"
      },
      "execution_count": 10,
      "outputs": [
        {
          "output_type": "execute_result",
          "data": {
            "text/plain": [
              "bytes"
            ]
          },
          "metadata": {},
          "execution_count": 10
        }
      ]
    },
    {
      "cell_type": "code",
      "source": [
        "soup = BeautifulSoup(webpage.content, \"html.parser\")\n",
        "soup"
      ],
      "metadata": {
        "id": "eDufKc29na7u"
      },
      "execution_count": null,
      "outputs": []
    },
    {
      "cell_type": "code",
      "source": [
        "soup1=soup.prettify()\n",
        "soup1"
      ],
      "metadata": {
        "id": "zh66isIypzLk"
      },
      "execution_count": null,
      "outputs": []
    },
    {
      "cell_type": "code",
      "source": [
        "# Fetch links as List of Tag Objects\n",
        "links = soup.find_all(\"a\", attrs={'class':'a-link-normal s-underline-text s-underline-link-text s-link-style a-text-normal'})\n",
        "links"
      ],
      "metadata": {
        "id": "4IS3z9mdna4z"
      },
      "execution_count": 27,
      "outputs": []
    },
    {
      "cell_type": "code",
      "source": [
        "link = links[0].get('href')\n",
        "link"
      ],
      "metadata": {
        "colab": {
          "base_uri": "https://localhost:8080/",
          "height": 35
        },
        "id": "xfO_lM89qdT6",
        "outputId": "9471f5b5-a3be-474a-b892-a2416c3a63ff"
      },
      "execution_count": 26,
      "outputs": [
        {
          "output_type": "execute_result",
          "data": {
            "text/plain": [
              "'/INTRO-PYTHON-COMPUTER-SCIENCE-DATA/dp/9353949513/ref=sr_1_1?crid=3FXF9JRLAD7HS&keywords=computer+books+for+data+science&qid=1695046618&sprefix=computer+books+for+data+science%2Caps%2C307&sr=8-1'"
            ],
            "application/vnd.google.colaboratory.intrinsic+json": {
              "type": "string"
            }
          },
          "metadata": {},
          "execution_count": 26
        }
      ]
    },
    {
      "cell_type": "code",
      "source": [
        "product_list = \"https://amazon.in\" + link\n",
        "product_list"
      ],
      "metadata": {
        "colab": {
          "base_uri": "https://localhost:8080/",
          "height": 35
        },
        "id": "aiYpRKgbqe8l",
        "outputId": "63da08fa-0494-4232-e049-b1e96af4150e"
      },
      "execution_count": 29,
      "outputs": [
        {
          "output_type": "execute_result",
          "data": {
            "text/plain": [
              "'https://amazon.in/INTRO-PYTHON-COMPUTER-SCIENCE-DATA/dp/9353949513/ref=sr_1_1?crid=3FXF9JRLAD7HS&keywords=computer+books+for+data+science&qid=1695046618&sprefix=computer+books+for+data+science%2Caps%2C307&sr=8-1'"
            ],
            "application/vnd.google.colaboratory.intrinsic+json": {
              "type": "string"
            }
          },
          "metadata": {},
          "execution_count": 29
        }
      ]
    },
    {
      "cell_type": "code",
      "source": [
        "new_webpage = requests.get(product_list, headers=headers)\n",
        "new_webpage"
      ],
      "metadata": {
        "colab": {
          "base_uri": "https://localhost:8080/"
        },
        "id": "UZP3yql8qwrM",
        "outputId": "7169b9f8-0554-4fa2-b2c7-5edabb9c72f8"
      },
      "execution_count": 31,
      "outputs": [
        {
          "output_type": "execute_result",
          "data": {
            "text/plain": [
              "<Response [200]>"
            ]
          },
          "metadata": {},
          "execution_count": 31
        }
      ]
    },
    {
      "cell_type": "code",
      "source": [
        "new_soup = BeautifulSoup(new_webpage.content, \"html.parser\")\n",
        "new_soup"
      ],
      "metadata": {
        "id": "XtIS0HxXq5ID"
      },
      "execution_count": null,
      "outputs": []
    },
    {
      "cell_type": "code",
      "source": [
        "new_soup.find(\"span\", attrs={\"id\":'productTitle'}).text.strip()"
      ],
      "metadata": {
        "colab": {
          "base_uri": "https://localhost:8080/",
          "height": 35
        },
        "id": "x9aXb3_Xq5FT",
        "outputId": "bb8017f3-d2e2-4453-e476-a5d8e9f61c40"
      },
      "execution_count": 34,
      "outputs": [
        {
          "output_type": "execute_result",
          "data": {
            "text/plain": [
              "'INTRO TO PYTHON FOR COMPUTER SCIENCE AND DATA SCIENCE: LEARNING TO PROGRAM WITH AI, BIG DATA AND THE CLOUD'"
            ],
            "application/vnd.google.colaboratory.intrinsic+json": {
              "type": "string"
            }
          },
          "metadata": {},
          "execution_count": 34
        }
      ]
    },
    {
      "cell_type": "code",
      "source": [
        "new_soup.find(\"span\", attrs={\"class\": \"a-price-whole\"}).text"
      ],
      "metadata": {
        "colab": {
          "base_uri": "https://localhost:8080/",
          "height": 35
        },
        "id": "miw5wA6Kq5Ch",
        "outputId": "20bc9d33-192c-442d-becf-49be841cadab"
      },
      "execution_count": 38,
      "outputs": [
        {
          "output_type": "execute_result",
          "data": {
            "text/plain": [
              "'875.'"
            ],
            "application/vnd.google.colaboratory.intrinsic+json": {
              "type": "string"
            }
          },
          "metadata": {},
          "execution_count": 38
        }
      ]
    },
    {
      "cell_type": "code",
      "source": [
        "new_soup.find(\"span\", attrs={\"class\":'a-icon-alt'}).text"
      ],
      "metadata": {
        "colab": {
          "base_uri": "https://localhost:8080/",
          "height": 35
        },
        "id": "svwOstV1q4_U",
        "outputId": "a5701353-d655-44a0-ca4d-dd7671d3da46"
      },
      "execution_count": 37,
      "outputs": [
        {
          "output_type": "execute_result",
          "data": {
            "text/plain": [
              "'4.7 out of 5 stars'"
            ],
            "application/vnd.google.colaboratory.intrinsic+json": {
              "type": "string"
            }
          },
          "metadata": {},
          "execution_count": 37
        }
      ]
    },
    {
      "cell_type": "code",
      "source": [
        "# Function to extract Product Title\n",
        "def get_title(soup):\n",
        "\n",
        "    try:\n",
        "        # Outer Tag Object\n",
        "        title = soup.find(\"span\", attrs={\"id\":'productTitle'})\n",
        "\n",
        "        # Inner NavigatableString Object\n",
        "        title_value = title.text\n",
        "\n",
        "        # Title as a string value\n",
        "        title_string = title_value.strip()\n",
        "\n",
        "    except AttributeError:\n",
        "        title_string = \"\"\n",
        "\n",
        "    return title_string\n",
        "\n",
        "# Function to extract Product Price\n",
        "def get_price(soup):\n",
        "\n",
        "    try:\n",
        "        price = soup.find(\"span\", attrs={'id':'priceblock_ourprice'}).string.strip()\n",
        "\n",
        "    except AttributeError:\n",
        "\n",
        "        try:\n",
        "            # If there is some deal price\n",
        "            price = soup.find(\"span\", attrs={'id':'priceblock_dealprice'}).string.strip()\n",
        "\n",
        "        except:\n",
        "            price = \"\"\n",
        "\n",
        "    return price\n",
        "\n",
        "# Function to extract Product Rating\n",
        "def get_rating(soup):\n",
        "\n",
        "    try:\n",
        "        rating = soup.find(\"i\", attrs={'class':'a-icon a-icon-star a-star-4-5'}).string.strip()\n",
        "\n",
        "    except AttributeError:\n",
        "        try:\n",
        "            rating = soup.find(\"span\", attrs={'class':'a-icon-alt'}).string.strip()\n",
        "        except:\n",
        "            rating = \"\"\n",
        "\n",
        "    return rating\n",
        "\n",
        "# Function to extract Number of User Reviews\n",
        "def get_review_count(soup):\n",
        "    try:\n",
        "        review_count = soup.find(\"span\", attrs={'id':'acrCustomerReviewText'}).string.strip()\n",
        "\n",
        "    except AttributeError:\n",
        "        review_count = \"\"\n",
        "\n",
        "    return review_count\n",
        "\n",
        "# Function to extract Availability Status\n",
        "def get_availability(soup):\n",
        "    try:\n",
        "        available = soup.find(\"div\", attrs={'id':'availability'})\n",
        "        available = available.find(\"span\").string.strip()\n",
        "\n",
        "    except AttributeError:\n",
        "        available = \"Not Available\"\n",
        "\n",
        "    return available\n",
        "\n"
      ],
      "metadata": {
        "id": "Mp9fQPOIq42-"
      },
      "execution_count": 39,
      "outputs": []
    },
    {
      "cell_type": "code",
      "source": [
        "\n",
        "if __name__ == '__main__':\n",
        "\n",
        "    # add your user agent\n",
        "    HEADERS = ({'User-Agent':'', 'Accept-Language': 'en-US, en;q=0.5'})\n",
        "\n",
        "    # The webpage URL\n",
        "    URL = \"https://www.amazon.com/s?k=playstation+4&ref=nb_sb_noss_2\"\n",
        "\n",
        "    # HTTP Request\n",
        "    webpage = requests.get(URL, headers=HEADERS)\n",
        "\n",
        "    # Soup Object containing all data\n",
        "    soup = BeautifulSoup(webpage.content, \"html.parser\")\n",
        "\n",
        "    # Fetch links as List of Tag Objects\n",
        "    links = soup.find_all(\"a\", attrs={'class':'a-link-normal s-no-outline'})\n",
        "\n",
        "    # Store the links\n",
        "    links_list = []\n",
        "\n",
        "    # Loop for extracting links from Tag Objects\n",
        "    for link in links:\n",
        "            links_list.append(link.get('href'))\n",
        "\n",
        "    d = {\"title\":[], \"price\":[], \"rating\":[], \"reviews\":[],\"availability\":[]}\n",
        "\n",
        "    # Loop for extracting product details from each link\n",
        "    for link in links_list:\n",
        "        new_webpage = requests.get(\"https://www.amazon.com\" + link, headers=HEADERS)\n",
        "\n",
        "        new_soup = BeautifulSoup(new_webpage.content, \"html.parser\")\n",
        "\n",
        "        # Function calls to display all necessary product information\n",
        "        d['title'].append(get_title(new_soup))\n",
        "        d['price'].append(get_price(new_soup))\n",
        "        d['rating'].append(get_rating(new_soup))\n",
        "        d['reviews'].append(get_review_count(new_soup))\n",
        "        d['availability'].append(get_availability(new_soup))\n",
        "\n",
        "\n",
        "    amazon_df = pd.DataFrame.from_dict(d)\n",
        "    amazon_df['title'].replace('', np.nan, inplace=True)\n",
        "    amazon_df = amazon_df.dropna(subset=['title'])\n",
        "    amazon_df.to_csv(\"amazon_data.csv\", header=True, index=False)\n"
      ],
      "metadata": {
        "id": "F73rEbPAr_5P"
      },
      "execution_count": 43,
      "outputs": []
    },
    {
      "cell_type": "code",
      "source": [
        "amazon_df"
      ],
      "metadata": {
        "colab": {
          "base_uri": "https://localhost:8080/",
          "height": 959
        },
        "id": "BuTSZZCPsBTC",
        "outputId": "4bc9a74f-47b1-4ae7-b9dd-a8e1e40cad9a"
      },
      "execution_count": 44,
      "outputs": [
        {
          "output_type": "execute_result",
          "data": {
            "text/plain": [
              "                                                title price  \\\n",
              "0    PlayStation 4 Slim 1TB Console - Black (Renewed)         \n",
              "1               PlayStation 4 500GB Console (Renewed)         \n",
              "2              Sony Playstation PS4 1TB Black Console         \n",
              "3   Sony PlayStation 4 Slim Limited Edition 1TB Ga...         \n",
              "4   Sony PlayStation 4 Pro w/ Accessories, 1TB HDD...         \n",
              "5   Playstation Sony 4, 500GB Slim System [CUH-221...         \n",
              "6   PlayStation 4 Console - 1TB Slim Edition (Rene...         \n",
              "7   PlayStation4 Console 1TB – Call of Duty Modern...         \n",
              "8   Newest Sony Playstation 4 PS4 1TB HDD Gaming C...         \n",
              "9   PlayStation 4 Slim 500GB Console [Discontinued...         \n",
              "10  PS 4 Slim Seyted Upgraded 2TB Console with Wir...         \n",
              "11  Sony PlayStation 4 PRO 1TB Gaming Console - Bl...         \n",
              "12  Sony Playstation 4 1TB Marvel's Spider-Man Bon...         \n",
              "13  Linkhood Cooling Fan for PS4 PRO, USB External...         \n",
              "14         Sony PlayStation 4 Console, Renewed, Black         \n",
              "15  Sony - PlayStation 4 Pro Console (3002470) Jet...         \n",
              "16   PlayStation 4 Slim 1TB Console - Black (Renewed)         \n",
              "17  PlayStation 4 Slim 500GB Console [Discontinued...         \n",
              "18           PlayStation 2 Slim Console PS2 (Renewed)         \n",
              "19  Sony PlayStation 4 Pro w/ Accessories, 1TB HDD...         \n",
              "20  Playstation SONY 4, 500GB Slim System [CUH-221...         \n",
              "21            Playstation 2 Console - Black (Renewed)         \n",
              "22  PlayStation 4 Slim 1TB Console - Marvels Spide...         \n",
              "23  PlayStation 2 Console (Slim Line Version 1) (R...         \n",
              "24             Sony Playstation PS4 1TB Black Console         \n",
              "25  Sony PlayStation 4 Slim Limited Edition 1TB Ga...         \n",
              "26  PlayStation4 Console 1TB – Call of Duty Modern...         \n",
              "27  PlayStation 4 Slim 500GB Console [Discontinued...         \n",
              "28  Playstation Sony 4, 500GB Slim System [CUH-221...         \n",
              "\n",
              "                rating        reviews                         availability  \n",
              "0   4.3 out of 5 stars  1,383 ratings                             In Stock  \n",
              "1   4.1 out of 5 stars    731 ratings                             In Stock  \n",
              "2   4.6 out of 5 stars  1,217 ratings                             In Stock  \n",
              "3   4.3 out of 5 stars  1,230 ratings                             In Stock  \n",
              "4   4.0 out of 5 stars    670 ratings   Only 3 left in stock - order soon.  \n",
              "5   4.6 out of 5 stars    324 ratings                             In Stock  \n",
              "6   4.7 out of 5 stars     39 ratings   Only 9 left in stock - order soon.  \n",
              "7   5.0 out of 5 stars       1 rating                             In Stock  \n",
              "8   4.6 out of 5 stars    570 ratings    Only 5 left in stock - order soon  \n",
              "9   4.5 out of 5 stars  1,323 ratings  Only 10 left in stock - order soon.  \n",
              "10  4.2 out of 5 stars     82 ratings    Only 3 left in stock - order soon  \n",
              "11  3.9 out of 5 stars    154 ratings                             In Stock  \n",
              "12  4.1 out of 5 stars      8 ratings   Only 2 left in stock - order soon.  \n",
              "13  3.8 out of 5 stars    257 ratings                             In Stock  \n",
              "14  4.0 out of 5 stars    200 ratings                             In Stock  \n",
              "15  4.3 out of 5 stars    233 ratings                             In Stock  \n",
              "16  4.3 out of 5 stars  1,383 ratings                             In Stock  \n",
              "17  4.5 out of 5 stars  1,323 ratings  Only 10 left in stock - order soon.  \n",
              "18  4.1 out of 5 stars  1,077 ratings   Only 6 left in stock - order soon.  \n",
              "19  4.0 out of 5 stars    670 ratings   Only 3 left in stock - order soon.  \n",
              "20  4.7 out of 5 stars    365 ratings   Only 8 left in stock - order soon.  \n",
              "21  4.1 out of 5 stars    326 ratings  Only 13 left in stock - order soon.  \n",
              "22  4.3 out of 5 stars    313 ratings   Only 9 left in stock - order soon.  \n",
              "23  4.2 out of 5 stars    273 ratings   Only 2 left in stock - order soon.  \n",
              "24  4.6 out of 5 stars  1,217 ratings                             In Stock  \n",
              "25  4.3 out of 5 stars  1,230 ratings                             In Stock  \n",
              "26  5.0 out of 5 stars       1 rating                             In Stock  \n",
              "27  4.5 out of 5 stars  1,323 ratings  Only 10 left in stock - order soon.  \n",
              "28  4.6 out of 5 stars    324 ratings                             In Stock  "
            ],
            "text/html": [
              "\n",
              "  <div id=\"df-70aaddbc-e398-4b51-9eef-945dc3432807\" class=\"colab-df-container\">\n",
              "    <div>\n",
              "<style scoped>\n",
              "    .dataframe tbody tr th:only-of-type {\n",
              "        vertical-align: middle;\n",
              "    }\n",
              "\n",
              "    .dataframe tbody tr th {\n",
              "        vertical-align: top;\n",
              "    }\n",
              "\n",
              "    .dataframe thead th {\n",
              "        text-align: right;\n",
              "    }\n",
              "</style>\n",
              "<table border=\"1\" class=\"dataframe\">\n",
              "  <thead>\n",
              "    <tr style=\"text-align: right;\">\n",
              "      <th></th>\n",
              "      <th>title</th>\n",
              "      <th>price</th>\n",
              "      <th>rating</th>\n",
              "      <th>reviews</th>\n",
              "      <th>availability</th>\n",
              "    </tr>\n",
              "  </thead>\n",
              "  <tbody>\n",
              "    <tr>\n",
              "      <th>0</th>\n",
              "      <td>PlayStation 4 Slim 1TB Console - Black (Renewed)</td>\n",
              "      <td></td>\n",
              "      <td>4.3 out of 5 stars</td>\n",
              "      <td>1,383 ratings</td>\n",
              "      <td>In Stock</td>\n",
              "    </tr>\n",
              "    <tr>\n",
              "      <th>1</th>\n",
              "      <td>PlayStation 4 500GB Console (Renewed)</td>\n",
              "      <td></td>\n",
              "      <td>4.1 out of 5 stars</td>\n",
              "      <td>731 ratings</td>\n",
              "      <td>In Stock</td>\n",
              "    </tr>\n",
              "    <tr>\n",
              "      <th>2</th>\n",
              "      <td>Sony Playstation PS4 1TB Black Console</td>\n",
              "      <td></td>\n",
              "      <td>4.6 out of 5 stars</td>\n",
              "      <td>1,217 ratings</td>\n",
              "      <td>In Stock</td>\n",
              "    </tr>\n",
              "    <tr>\n",
              "      <th>3</th>\n",
              "      <td>Sony PlayStation 4 Slim Limited Edition 1TB Ga...</td>\n",
              "      <td></td>\n",
              "      <td>4.3 out of 5 stars</td>\n",
              "      <td>1,230 ratings</td>\n",
              "      <td>In Stock</td>\n",
              "    </tr>\n",
              "    <tr>\n",
              "      <th>4</th>\n",
              "      <td>Sony PlayStation 4 Pro w/ Accessories, 1TB HDD...</td>\n",
              "      <td></td>\n",
              "      <td>4.0 out of 5 stars</td>\n",
              "      <td>670 ratings</td>\n",
              "      <td>Only 3 left in stock - order soon.</td>\n",
              "    </tr>\n",
              "    <tr>\n",
              "      <th>5</th>\n",
              "      <td>Playstation Sony 4, 500GB Slim System [CUH-221...</td>\n",
              "      <td></td>\n",
              "      <td>4.6 out of 5 stars</td>\n",
              "      <td>324 ratings</td>\n",
              "      <td>In Stock</td>\n",
              "    </tr>\n",
              "    <tr>\n",
              "      <th>6</th>\n",
              "      <td>PlayStation 4 Console - 1TB Slim Edition (Rene...</td>\n",
              "      <td></td>\n",
              "      <td>4.7 out of 5 stars</td>\n",
              "      <td>39 ratings</td>\n",
              "      <td>Only 9 left in stock - order soon.</td>\n",
              "    </tr>\n",
              "    <tr>\n",
              "      <th>7</th>\n",
              "      <td>PlayStation4 Console 1TB – Call of Duty Modern...</td>\n",
              "      <td></td>\n",
              "      <td>5.0 out of 5 stars</td>\n",
              "      <td>1 rating</td>\n",
              "      <td>In Stock</td>\n",
              "    </tr>\n",
              "    <tr>\n",
              "      <th>8</th>\n",
              "      <td>Newest Sony Playstation 4 PS4 1TB HDD Gaming C...</td>\n",
              "      <td></td>\n",
              "      <td>4.6 out of 5 stars</td>\n",
              "      <td>570 ratings</td>\n",
              "      <td>Only 5 left in stock - order soon</td>\n",
              "    </tr>\n",
              "    <tr>\n",
              "      <th>9</th>\n",
              "      <td>PlayStation 4 Slim 500GB Console [Discontinued...</td>\n",
              "      <td></td>\n",
              "      <td>4.5 out of 5 stars</td>\n",
              "      <td>1,323 ratings</td>\n",
              "      <td>Only 10 left in stock - order soon.</td>\n",
              "    </tr>\n",
              "    <tr>\n",
              "      <th>10</th>\n",
              "      <td>PS 4 Slim Seyted Upgraded 2TB Console with Wir...</td>\n",
              "      <td></td>\n",
              "      <td>4.2 out of 5 stars</td>\n",
              "      <td>82 ratings</td>\n",
              "      <td>Only 3 left in stock - order soon</td>\n",
              "    </tr>\n",
              "    <tr>\n",
              "      <th>11</th>\n",
              "      <td>Sony PlayStation 4 PRO 1TB Gaming Console - Bl...</td>\n",
              "      <td></td>\n",
              "      <td>3.9 out of 5 stars</td>\n",
              "      <td>154 ratings</td>\n",
              "      <td>In Stock</td>\n",
              "    </tr>\n",
              "    <tr>\n",
              "      <th>12</th>\n",
              "      <td>Sony Playstation 4 1TB Marvel's Spider-Man Bon...</td>\n",
              "      <td></td>\n",
              "      <td>4.1 out of 5 stars</td>\n",
              "      <td>8 ratings</td>\n",
              "      <td>Only 2 left in stock - order soon.</td>\n",
              "    </tr>\n",
              "    <tr>\n",
              "      <th>13</th>\n",
              "      <td>Linkhood Cooling Fan for PS4 PRO, USB External...</td>\n",
              "      <td></td>\n",
              "      <td>3.8 out of 5 stars</td>\n",
              "      <td>257 ratings</td>\n",
              "      <td>In Stock</td>\n",
              "    </tr>\n",
              "    <tr>\n",
              "      <th>14</th>\n",
              "      <td>Sony PlayStation 4 Console, Renewed, Black</td>\n",
              "      <td></td>\n",
              "      <td>4.0 out of 5 stars</td>\n",
              "      <td>200 ratings</td>\n",
              "      <td>In Stock</td>\n",
              "    </tr>\n",
              "    <tr>\n",
              "      <th>15</th>\n",
              "      <td>Sony - PlayStation 4 Pro Console (3002470) Jet...</td>\n",
              "      <td></td>\n",
              "      <td>4.3 out of 5 stars</td>\n",
              "      <td>233 ratings</td>\n",
              "      <td>In Stock</td>\n",
              "    </tr>\n",
              "    <tr>\n",
              "      <th>16</th>\n",
              "      <td>PlayStation 4 Slim 1TB Console - Black (Renewed)</td>\n",
              "      <td></td>\n",
              "      <td>4.3 out of 5 stars</td>\n",
              "      <td>1,383 ratings</td>\n",
              "      <td>In Stock</td>\n",
              "    </tr>\n",
              "    <tr>\n",
              "      <th>17</th>\n",
              "      <td>PlayStation 4 Slim 500GB Console [Discontinued...</td>\n",
              "      <td></td>\n",
              "      <td>4.5 out of 5 stars</td>\n",
              "      <td>1,323 ratings</td>\n",
              "      <td>Only 10 left in stock - order soon.</td>\n",
              "    </tr>\n",
              "    <tr>\n",
              "      <th>18</th>\n",
              "      <td>PlayStation 2 Slim Console PS2 (Renewed)</td>\n",
              "      <td></td>\n",
              "      <td>4.1 out of 5 stars</td>\n",
              "      <td>1,077 ratings</td>\n",
              "      <td>Only 6 left in stock - order soon.</td>\n",
              "    </tr>\n",
              "    <tr>\n",
              "      <th>19</th>\n",
              "      <td>Sony PlayStation 4 Pro w/ Accessories, 1TB HDD...</td>\n",
              "      <td></td>\n",
              "      <td>4.0 out of 5 stars</td>\n",
              "      <td>670 ratings</td>\n",
              "      <td>Only 3 left in stock - order soon.</td>\n",
              "    </tr>\n",
              "    <tr>\n",
              "      <th>20</th>\n",
              "      <td>Playstation SONY 4, 500GB Slim System [CUH-221...</td>\n",
              "      <td></td>\n",
              "      <td>4.7 out of 5 stars</td>\n",
              "      <td>365 ratings</td>\n",
              "      <td>Only 8 left in stock - order soon.</td>\n",
              "    </tr>\n",
              "    <tr>\n",
              "      <th>21</th>\n",
              "      <td>Playstation 2 Console - Black (Renewed)</td>\n",
              "      <td></td>\n",
              "      <td>4.1 out of 5 stars</td>\n",
              "      <td>326 ratings</td>\n",
              "      <td>Only 13 left in stock - order soon.</td>\n",
              "    </tr>\n",
              "    <tr>\n",
              "      <th>22</th>\n",
              "      <td>PlayStation 4 Slim 1TB Console - Marvels Spide...</td>\n",
              "      <td></td>\n",
              "      <td>4.3 out of 5 stars</td>\n",
              "      <td>313 ratings</td>\n",
              "      <td>Only 9 left in stock - order soon.</td>\n",
              "    </tr>\n",
              "    <tr>\n",
              "      <th>23</th>\n",
              "      <td>PlayStation 2 Console (Slim Line Version 1) (R...</td>\n",
              "      <td></td>\n",
              "      <td>4.2 out of 5 stars</td>\n",
              "      <td>273 ratings</td>\n",
              "      <td>Only 2 left in stock - order soon.</td>\n",
              "    </tr>\n",
              "    <tr>\n",
              "      <th>24</th>\n",
              "      <td>Sony Playstation PS4 1TB Black Console</td>\n",
              "      <td></td>\n",
              "      <td>4.6 out of 5 stars</td>\n",
              "      <td>1,217 ratings</td>\n",
              "      <td>In Stock</td>\n",
              "    </tr>\n",
              "    <tr>\n",
              "      <th>25</th>\n",
              "      <td>Sony PlayStation 4 Slim Limited Edition 1TB Ga...</td>\n",
              "      <td></td>\n",
              "      <td>4.3 out of 5 stars</td>\n",
              "      <td>1,230 ratings</td>\n",
              "      <td>In Stock</td>\n",
              "    </tr>\n",
              "    <tr>\n",
              "      <th>26</th>\n",
              "      <td>PlayStation4 Console 1TB – Call of Duty Modern...</td>\n",
              "      <td></td>\n",
              "      <td>5.0 out of 5 stars</td>\n",
              "      <td>1 rating</td>\n",
              "      <td>In Stock</td>\n",
              "    </tr>\n",
              "    <tr>\n",
              "      <th>27</th>\n",
              "      <td>PlayStation 4 Slim 500GB Console [Discontinued...</td>\n",
              "      <td></td>\n",
              "      <td>4.5 out of 5 stars</td>\n",
              "      <td>1,323 ratings</td>\n",
              "      <td>Only 10 left in stock - order soon.</td>\n",
              "    </tr>\n",
              "    <tr>\n",
              "      <th>28</th>\n",
              "      <td>Playstation Sony 4, 500GB Slim System [CUH-221...</td>\n",
              "      <td></td>\n",
              "      <td>4.6 out of 5 stars</td>\n",
              "      <td>324 ratings</td>\n",
              "      <td>In Stock</td>\n",
              "    </tr>\n",
              "  </tbody>\n",
              "</table>\n",
              "</div>\n",
              "    <div class=\"colab-df-buttons\">\n",
              "\n",
              "  <div class=\"colab-df-container\">\n",
              "    <button class=\"colab-df-convert\" onclick=\"convertToInteractive('df-70aaddbc-e398-4b51-9eef-945dc3432807')\"\n",
              "            title=\"Convert this dataframe to an interactive table.\"\n",
              "            style=\"display:none;\">\n",
              "\n",
              "  <svg xmlns=\"http://www.w3.org/2000/svg\" height=\"24px\" viewBox=\"0 -960 960 960\">\n",
              "    <path d=\"M120-120v-720h720v720H120Zm60-500h600v-160H180v160Zm220 220h160v-160H400v160Zm0 220h160v-160H400v160ZM180-400h160v-160H180v160Zm440 0h160v-160H620v160ZM180-180h160v-160H180v160Zm440 0h160v-160H620v160Z\"/>\n",
              "  </svg>\n",
              "    </button>\n",
              "\n",
              "  <style>\n",
              "    .colab-df-container {\n",
              "      display:flex;\n",
              "      gap: 12px;\n",
              "    }\n",
              "\n",
              "    .colab-df-convert {\n",
              "      background-color: #E8F0FE;\n",
              "      border: none;\n",
              "      border-radius: 50%;\n",
              "      cursor: pointer;\n",
              "      display: none;\n",
              "      fill: #1967D2;\n",
              "      height: 32px;\n",
              "      padding: 0 0 0 0;\n",
              "      width: 32px;\n",
              "    }\n",
              "\n",
              "    .colab-df-convert:hover {\n",
              "      background-color: #E2EBFA;\n",
              "      box-shadow: 0px 1px 2px rgba(60, 64, 67, 0.3), 0px 1px 3px 1px rgba(60, 64, 67, 0.15);\n",
              "      fill: #174EA6;\n",
              "    }\n",
              "\n",
              "    .colab-df-buttons div {\n",
              "      margin-bottom: 4px;\n",
              "    }\n",
              "\n",
              "    [theme=dark] .colab-df-convert {\n",
              "      background-color: #3B4455;\n",
              "      fill: #D2E3FC;\n",
              "    }\n",
              "\n",
              "    [theme=dark] .colab-df-convert:hover {\n",
              "      background-color: #434B5C;\n",
              "      box-shadow: 0px 1px 3px 1px rgba(0, 0, 0, 0.15);\n",
              "      filter: drop-shadow(0px 1px 2px rgba(0, 0, 0, 0.3));\n",
              "      fill: #FFFFFF;\n",
              "    }\n",
              "  </style>\n",
              "\n",
              "    <script>\n",
              "      const buttonEl =\n",
              "        document.querySelector('#df-70aaddbc-e398-4b51-9eef-945dc3432807 button.colab-df-convert');\n",
              "      buttonEl.style.display =\n",
              "        google.colab.kernel.accessAllowed ? 'block' : 'none';\n",
              "\n",
              "      async function convertToInteractive(key) {\n",
              "        const element = document.querySelector('#df-70aaddbc-e398-4b51-9eef-945dc3432807');\n",
              "        const dataTable =\n",
              "          await google.colab.kernel.invokeFunction('convertToInteractive',\n",
              "                                                    [key], {});\n",
              "        if (!dataTable) return;\n",
              "\n",
              "        const docLinkHtml = 'Like what you see? Visit the ' +\n",
              "          '<a target=\"_blank\" href=https://colab.research.google.com/notebooks/data_table.ipynb>data table notebook</a>'\n",
              "          + ' to learn more about interactive tables.';\n",
              "        element.innerHTML = '';\n",
              "        dataTable['output_type'] = 'display_data';\n",
              "        await google.colab.output.renderOutput(dataTable, element);\n",
              "        const docLink = document.createElement('div');\n",
              "        docLink.innerHTML = docLinkHtml;\n",
              "        element.appendChild(docLink);\n",
              "      }\n",
              "    </script>\n",
              "  </div>\n",
              "\n",
              "\n",
              "<div id=\"df-67f69a3c-5ace-4ffe-bbf5-47bdad33b951\">\n",
              "  <button class=\"colab-df-quickchart\" onclick=\"quickchart('df-67f69a3c-5ace-4ffe-bbf5-47bdad33b951')\"\n",
              "            title=\"Suggest charts.\"\n",
              "            style=\"display:none;\">\n",
              "\n",
              "<svg xmlns=\"http://www.w3.org/2000/svg\" height=\"24px\"viewBox=\"0 0 24 24\"\n",
              "     width=\"24px\">\n",
              "    <g>\n",
              "        <path d=\"M19 3H5c-1.1 0-2 .9-2 2v14c0 1.1.9 2 2 2h14c1.1 0 2-.9 2-2V5c0-1.1-.9-2-2-2zM9 17H7v-7h2v7zm4 0h-2V7h2v10zm4 0h-2v-4h2v4z\"/>\n",
              "    </g>\n",
              "</svg>\n",
              "  </button>\n",
              "\n",
              "<style>\n",
              "  .colab-df-quickchart {\n",
              "      --bg-color: #E8F0FE;\n",
              "      --fill-color: #1967D2;\n",
              "      --hover-bg-color: #E2EBFA;\n",
              "      --hover-fill-color: #174EA6;\n",
              "      --disabled-fill-color: #AAA;\n",
              "      --disabled-bg-color: #DDD;\n",
              "  }\n",
              "\n",
              "  [theme=dark] .colab-df-quickchart {\n",
              "      --bg-color: #3B4455;\n",
              "      --fill-color: #D2E3FC;\n",
              "      --hover-bg-color: #434B5C;\n",
              "      --hover-fill-color: #FFFFFF;\n",
              "      --disabled-bg-color: #3B4455;\n",
              "      --disabled-fill-color: #666;\n",
              "  }\n",
              "\n",
              "  .colab-df-quickchart {\n",
              "    background-color: var(--bg-color);\n",
              "    border: none;\n",
              "    border-radius: 50%;\n",
              "    cursor: pointer;\n",
              "    display: none;\n",
              "    fill: var(--fill-color);\n",
              "    height: 32px;\n",
              "    padding: 0;\n",
              "    width: 32px;\n",
              "  }\n",
              "\n",
              "  .colab-df-quickchart:hover {\n",
              "    background-color: var(--hover-bg-color);\n",
              "    box-shadow: 0 1px 2px rgba(60, 64, 67, 0.3), 0 1px 3px 1px rgba(60, 64, 67, 0.15);\n",
              "    fill: var(--button-hover-fill-color);\n",
              "  }\n",
              "\n",
              "  .colab-df-quickchart-complete:disabled,\n",
              "  .colab-df-quickchart-complete:disabled:hover {\n",
              "    background-color: var(--disabled-bg-color);\n",
              "    fill: var(--disabled-fill-color);\n",
              "    box-shadow: none;\n",
              "  }\n",
              "\n",
              "  .colab-df-spinner {\n",
              "    border: 2px solid var(--fill-color);\n",
              "    border-color: transparent;\n",
              "    border-bottom-color: var(--fill-color);\n",
              "    animation:\n",
              "      spin 1s steps(1) infinite;\n",
              "  }\n",
              "\n",
              "  @keyframes spin {\n",
              "    0% {\n",
              "      border-color: transparent;\n",
              "      border-bottom-color: var(--fill-color);\n",
              "      border-left-color: var(--fill-color);\n",
              "    }\n",
              "    20% {\n",
              "      border-color: transparent;\n",
              "      border-left-color: var(--fill-color);\n",
              "      border-top-color: var(--fill-color);\n",
              "    }\n",
              "    30% {\n",
              "      border-color: transparent;\n",
              "      border-left-color: var(--fill-color);\n",
              "      border-top-color: var(--fill-color);\n",
              "      border-right-color: var(--fill-color);\n",
              "    }\n",
              "    40% {\n",
              "      border-color: transparent;\n",
              "      border-right-color: var(--fill-color);\n",
              "      border-top-color: var(--fill-color);\n",
              "    }\n",
              "    60% {\n",
              "      border-color: transparent;\n",
              "      border-right-color: var(--fill-color);\n",
              "    }\n",
              "    80% {\n",
              "      border-color: transparent;\n",
              "      border-right-color: var(--fill-color);\n",
              "      border-bottom-color: var(--fill-color);\n",
              "    }\n",
              "    90% {\n",
              "      border-color: transparent;\n",
              "      border-bottom-color: var(--fill-color);\n",
              "    }\n",
              "  }\n",
              "</style>\n",
              "\n",
              "  <script>\n",
              "    async function quickchart(key) {\n",
              "      const quickchartButtonEl =\n",
              "        document.querySelector('#' + key + ' button');\n",
              "      quickchartButtonEl.disabled = true;  // To prevent multiple clicks.\n",
              "      quickchartButtonEl.classList.add('colab-df-spinner');\n",
              "      try {\n",
              "        const charts = await google.colab.kernel.invokeFunction(\n",
              "            'suggestCharts', [key], {});\n",
              "      } catch (error) {\n",
              "        console.error('Error during call to suggestCharts:', error);\n",
              "      }\n",
              "      quickchartButtonEl.classList.remove('colab-df-spinner');\n",
              "      quickchartButtonEl.classList.add('colab-df-quickchart-complete');\n",
              "    }\n",
              "    (() => {\n",
              "      let quickchartButtonEl =\n",
              "        document.querySelector('#df-67f69a3c-5ace-4ffe-bbf5-47bdad33b951 button');\n",
              "      quickchartButtonEl.style.display =\n",
              "        google.colab.kernel.accessAllowed ? 'block' : 'none';\n",
              "    })();\n",
              "  </script>\n",
              "</div>\n",
              "    </div>\n",
              "  </div>\n"
            ]
          },
          "metadata": {},
          "execution_count": 44
        }
      ]
    }
  ]
}